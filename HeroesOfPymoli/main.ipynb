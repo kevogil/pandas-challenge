{
 "cells": [
  {
   "cell_type": "code",
   "execution_count": 1,
   "id": "f5c53a99",
   "metadata": {},
   "outputs": [],
   "source": [
    "import pandas as pd\n",
    "import pathlib"
   ]
  },
  {
   "cell_type": "code",
   "execution_count": 2,
   "id": "25ff4aa3",
   "metadata": {},
   "outputs": [],
   "source": [
    "csv_path = pathlib.Path('Resources/purchase_data.csv')"
   ]
  },
  {
   "cell_type": "code",
   "execution_count": 3,
   "id": "659bfae4",
   "metadata": {},
   "outputs": [],
   "source": [
    "data_df = pd.read_csv(csv_path)"
   ]
  },
  {
   "cell_type": "code",
   "execution_count": 4,
   "id": "f50cd9ac",
   "metadata": {},
   "outputs": [],
   "source": [
    "screen_names = data_df['SN']\n",
    "number_of_players = len(screen_names.unique())"
   ]
  },
  {
   "cell_type": "code",
   "execution_count": 56,
   "id": "2fd86f5b",
   "metadata": {
    "scrolled": true
   },
   "outputs": [
    {
     "name": "stdout",
     "output_type": "stream",
     "text": [
      "Player Count\n",
      "\n",
      "Total Number of Players:\n",
      "576\n"
     ]
    }
   ],
   "source": [
    "print('Player Count' + '\\n')\n",
    "print('Total Number of Players:')\n",
    "print(number_of_players)"
   ]
  },
  {
   "cell_type": "code",
   "execution_count": 6,
   "id": "0fbfcb11",
   "metadata": {},
   "outputs": [
    {
     "name": "stdout",
     "output_type": "stream",
     "text": [
      "\n",
      "Purchasing Analysis (Total)\n",
      "\n"
     ]
    }
   ],
   "source": [
    "print('\\n' + 'Purchasing Analysis (Total)' + '\\n')"
   ]
  },
  {
   "cell_type": "code",
   "execution_count": 7,
   "id": "587f56be",
   "metadata": {},
   "outputs": [],
   "source": [
    "item_names = data_df['Item Name']\n",
    "number_of_unique_items = len(item_names.unique())"
   ]
  },
  {
   "cell_type": "code",
   "execution_count": 8,
   "id": "304d1926",
   "metadata": {},
   "outputs": [],
   "source": [
    "purchase_prices = data_df['Price']\n",
    "avg_price = round(purchase_prices.mean(),2)"
   ]
  },
  {
   "cell_type": "code",
   "execution_count": 9,
   "id": "9f4d6384",
   "metadata": {},
   "outputs": [],
   "source": [
    "number_of_purchases = len(data_df)"
   ]
  },
  {
   "cell_type": "code",
   "execution_count": 10,
   "id": "844c15f4",
   "metadata": {},
   "outputs": [],
   "source": [
    "total_revenue = \"${:,.2f}\".format(purchase_prices.sum())"
   ]
  },
  {
   "cell_type": "code",
   "execution_count": 11,
   "id": "e35c92cf",
   "metadata": {},
   "outputs": [
    {
     "name": "stdout",
     "output_type": "stream",
     "text": [
      "   Number of Unique Items  Average Purchase Price  Total Number of Purchases  \\\n",
      "0                     179                    3.05                        780   \n",
      "\n",
      "  Total Revenue  \n",
      "0     $2,379.77  \n"
     ]
    }
   ],
   "source": [
    "purchasing_analysis_df = pd.DataFrame({\"Number of Unique Items\": [number_of_unique_items],\n",
    "                                       \"Average Purchase Price\": [avg_price],\n",
    "                                       \"Total Number of Purchases\": [number_of_purchases],\n",
    "                                       \"Total Revenue\": [total_revenue]})\n",
    "print(purchasing_analysis_df)"
   ]
  },
  {
   "cell_type": "code",
   "execution_count": 12,
   "id": "d70f46a0",
   "metadata": {},
   "outputs": [
    {
     "name": "stdout",
     "output_type": "stream",
     "text": [
      "\n",
      "Gender Demographics\n",
      "\n"
     ]
    }
   ],
   "source": [
    "print('\\n' + 'Gender Demographics' + '\\n')"
   ]
  },
  {
   "cell_type": "code",
   "execution_count": 13,
   "id": "338b5b1d",
   "metadata": {},
   "outputs": [
    {
     "name": "stdout",
     "output_type": "stream",
     "text": [
      "                       Total Count Percentage of Players\n",
      "Male                           484                 84.0%\n",
      "Female                          81                 14.1%\n",
      "Other / Non-Disclosed           11                  1.9%\n"
     ]
    }
   ],
   "source": [
    "grouped_gender_df = data_df.drop_duplicates(subset='SN')\n",
    "gender_count = grouped_gender_df['Gender'].value_counts()\n",
    "gender_percent = grouped_gender_df['Gender'].value_counts(normalize=True).mul(100).round(1).astype(str) + '%'\n",
    "\n",
    "gender_demographics_df = pd.DataFrame({\"Total Count\": gender_count,\n",
    "                                       \"Percentage of Players\": gender_percent})\n",
    "print(gender_demographics_df)"
   ]
  },
  {
   "cell_type": "code",
   "execution_count": 14,
   "id": "864726ad",
   "metadata": {
    "scrolled": true
   },
   "outputs": [
    {
     "name": "stdout",
     "output_type": "stream",
     "text": [
      "\n",
      "Purchasing Analysis (Gender)\n",
      "\n"
     ]
    }
   ],
   "source": [
    "print('\\n' + 'Purchasing Analysis (Gender)' + '\\n')"
   ]
  },
  {
   "cell_type": "code",
   "execution_count": 72,
   "id": "ceed31b8",
   "metadata": {},
   "outputs": [
    {
     "name": "stdout",
     "output_type": "stream",
     "text": [
      "                       Purchase Count  Average Purchase Price  \\\n",
      "Female                            113                    3.20   \n",
      "Male                              652                    3.02   \n",
      "Other / Non-Disclosed              15                    3.35   \n",
      "\n",
      "                       Total Purchase Value  Avg Total Purchase per Person  \n",
      "Female                               361.94                           4.47  \n",
      "Male                                1967.64                           4.07  \n",
      "Other / Non-Disclosed                 50.19                           4.56  \n"
     ]
    }
   ],
   "source": [
    "grouped_gender_df = data_df.groupby('Gender')\n",
    "\n",
    "purchase_count = grouped_gender_df['Gender'].count()\n",
    "avg_price = grouped_gender_df['Price'].mean()\n",
    "total_value = grouped_gender_df['Price'].sum()\n",
    "avg_purchase_per_person = total_value / gender_count\n",
    "\n",
    "purchasing_analysis_df = pd.DataFrame({'Purchase Count': purchase_count,\n",
    "                                       'Average Purchase Price': round(avg_price,2),\n",
    "                                       'Total Purchase Value': round(total_value,2),\n",
    "                                       'Avg Total Purchase per Person': round(avg_purchase_per_person,2)})\n",
    "\n",
    "print(purchasing_analysis_df)"
   ]
  },
  {
   "cell_type": "code",
   "execution_count": 73,
   "id": "2342341d",
   "metadata": {},
   "outputs": [
    {
     "name": "stdout",
     "output_type": "stream",
     "text": [
      "\n",
      "Age Demographics\n",
      "\n"
     ]
    }
   ],
   "source": [
    "print('\\n' + 'Age Demographics' + '\\n')"
   ]
  },
  {
   "cell_type": "code",
   "execution_count": 74,
   "id": "b2f3d269",
   "metadata": {},
   "outputs": [
    {
     "name": "stdout",
     "output_type": "stream",
     "text": [
      "            Total Count  Percentage of Players\n",
      "Age Groups                                    \n",
      "<10                  17                   2.95\n",
      "10-14                22                   3.82\n",
      "15-19               107                  18.58\n",
      "20-24               258                  44.79\n",
      "25-29                77                  13.37\n",
      "30-34                52                   9.03\n",
      "35-39                31                   5.38\n",
      "40+                  12                   2.08\n"
     ]
    }
   ],
   "source": [
    "bins = [0, 9, 14, 19, 24, 29, 34, 39, 150]\n",
    "bin_labels = ['<10', '10-14', '15-19', '20-24', '25-29', '30-34', '35-39', '40+']\n",
    "\n",
    "data_df['Age Groups'] = pd.cut(\n",
    "    x=data_df['Age'], \n",
    "    bins=bins, \n",
    "    labels=bin_labels)\n",
    "\n",
    "age_group_df = data_df.drop_duplicates(subset='SN')\n",
    "age_groupby_count = age_group_df.groupby('Age Groups').count()\n",
    "age_count = age_groupby_count['SN']\n",
    "age_percentage = (age_count / number_of_players) * 100\n",
    "\n",
    "age_demographics_df = pd.DataFrame({'Total Count': age_count,\n",
    "                                    'Percentage of Players': round(age_percentage,2)})\n",
    "\n",
    "print(age_demographics_df)"
   ]
  },
  {
   "cell_type": "code",
   "execution_count": 75,
   "id": "6d41bf23",
   "metadata": {},
   "outputs": [
    {
     "name": "stdout",
     "output_type": "stream",
     "text": [
      "\n",
      "Purchasing Analysis (Age)\n",
      "\n"
     ]
    }
   ],
   "source": [
    "print('\\n' + 'Purchasing Analysis (Age)' + '\\n')"
   ]
  },
  {
   "cell_type": "code",
   "execution_count": 110,
   "id": "f4db605e",
   "metadata": {},
   "outputs": [
    {
     "name": "stdout",
     "output_type": "stream",
     "text": [
      "            Purchase Count  Average Purchase Price  Total Purchase Value  \\\n",
      "Age Groups                                                                 \n",
      "<10                     23                    3.35                 77.13   \n",
      "10-14                   28                    2.96                 82.78   \n",
      "15-19                  136                    3.04                412.89   \n",
      "20-24                  365                    3.05               1114.06   \n",
      "25-29                  101                    2.90                293.00   \n",
      "30-34                   73                    2.93                214.00   \n",
      "35-39                   41                    3.60                147.67   \n",
      "40+                     13                    2.94                 38.24   \n",
      "\n",
      "            Avg Total Purchase per Person  \n",
      "Age Groups                                 \n",
      "<10                                  4.54  \n",
      "10-14                                3.76  \n",
      "15-19                                3.86  \n",
      "20-24                                4.32  \n",
      "25-29                                3.81  \n",
      "30-34                                4.12  \n",
      "35-39                                4.76  \n",
      "40+                                  3.19  \n"
     ]
    }
   ],
   "source": [
    "grouped_age_df = data_df.groupby('Age Groups')\n",
    "\n",
    "purchase_count = grouped_age_df['Gender'].count()\n",
    "avg_price = grouped_age_df['Price'].mean()\n",
    "total_value = grouped_age_df['Price'].sum()\n",
    "gender_count = grouped_age_df['Age Groups'].count()\n",
    "avg_purchase_per_person = total_value / age_count\n",
    "\n",
    "purchasing_age_analysis_df = pd.DataFrame({'Purchase Count': purchase_count,\n",
    "                                       'Average Purchase Price': round(avg_price,2),\n",
    "                                       'Total Purchase Value': round(total_value,2),\n",
    "                                       'Avg Total Purchase per Person': round(avg_purchase_per_person,2)})\n",
    "\n",
    "print(purchasing_age_analysis_df)"
   ]
  },
  {
   "cell_type": "code",
   "execution_count": 104,
   "id": "2d49b4d7",
   "metadata": {},
   "outputs": [
    {
     "name": "stdout",
     "output_type": "stream",
     "text": [
      "\n",
      "Top Spenders\n",
      "\n"
     ]
    }
   ],
   "source": [
    "print('\\n' + 'Top Spenders' + '\\n')"
   ]
  },
  {
   "cell_type": "code",
   "execution_count": 108,
   "id": "7448b619",
   "metadata": {},
   "outputs": [
    {
     "name": "stdout",
     "output_type": "stream",
     "text": [
      "             Purchase Count  Average Purchase Price  Total Purchase Value\n",
      "SN                                                                       \n",
      "Lisosia93                 5                    3.79                 18.96\n",
      "Idastidru52               4                    3.86                 15.45\n",
      "Chamjask73                3                    4.61                 13.83\n",
      "Iral74                    4                    3.40                 13.62\n",
      "Iskadarya95               3                    4.37                 13.10\n"
     ]
    }
   ],
   "source": [
    "sn_df = data_df.groupby('SN')\n",
    "\n",
    "purchase_count = sn_df['Purchase ID'].count()\n",
    "average_purchase_price = sn_df['Price'].mean()\n",
    "total_purchase_value = sn_df['Price'].sum()\n",
    "\n",
    "top_spenders_analysis_df = pd.DataFrame({'Purchase Count': purchase_count,\n",
    "                                         'Average Purchase Price': round(average_purchase_price,2),\n",
    "                                         'Total Purchase Value': round(total_purchase_value,2)})\n",
    "top_spenders_analysis_df = top_spenders_analysis_df.sort_values('Total Purchase Value', ascending=False)\n",
    "print(top_spenders_analysis_df.head(5))\n"
   ]
  },
  {
   "cell_type": "code",
   "execution_count": 109,
   "id": "9513483d",
   "metadata": {},
   "outputs": [
    {
     "name": "stdout",
     "output_type": "stream",
     "text": [
      "\n",
      "Most Popular Items\n",
      "\n"
     ]
    }
   ],
   "source": [
    "print('\\n' + 'Most Popular Items' + '\\n')"
   ]
  },
  {
   "cell_type": "code",
   "execution_count": 126,
   "id": "e8357ce9",
   "metadata": {},
   "outputs": [
    {
     "name": "stdout",
     "output_type": "stream",
     "text": [
      "                                                      Purchase Count  \\\n",
      "Item ID Item Name                                                      \n",
      "92      Final Critic                                              13   \n",
      "178     Oathbreaker, Last Hope of the Breaking Storm              12   \n",
      "145     Fiery Glass Crusader                                       9   \n",
      "132     Persuasion                                                 9   \n",
      "108     Extraction, Quickblade Of Trembling Hands                  9   \n",
      "\n",
      "                                                      Item Price  \\\n",
      "Item ID Item Name                                                  \n",
      "92      Final Critic                                        4.61   \n",
      "178     Oathbreaker, Last Hope of the Breaking Storm        4.23   \n",
      "145     Fiery Glass Crusader                                4.58   \n",
      "132     Persuasion                                          3.22   \n",
      "108     Extraction, Quickblade Of Trembling Hands           3.53   \n",
      "\n",
      "                                                      Total Purchase Value  \n",
      "Item ID Item Name                                                           \n",
      "92      Final Critic                                                 59.99  \n",
      "178     Oathbreaker, Last Hope of the Breaking Storm                 50.76  \n",
      "145     Fiery Glass Crusader                                         41.22  \n",
      "132     Persuasion                                                   28.99  \n",
      "108     Extraction, Quickblade Of Trembling Hands                    31.77  \n"
     ]
    }
   ],
   "source": [
    "item_df = data_df.groupby(['Item ID', 'Item Name'])\n",
    "\n",
    "purchase_count = item_df['Purchase ID'].count()\n",
    "item_price = item_df['Price'].mean()\n",
    "total_purchase_value = item_df['Price'].sum()\n",
    "\n",
    "most_popular_items_df = pd.DataFrame({'Purchase Count': purchase_count,\n",
    "                                      'Item Price': round(item_price,2),\n",
    "                                      'Total Purchase Value': round(total_purchase_value,2)})\n",
    "most_popular_items_df = most_popular_items_df.sort_values('Purchase Count', ascending=False)\n",
    "print(most_popular_items_df.head(5))"
   ]
  },
  {
   "cell_type": "code",
   "execution_count": 125,
   "id": "62000829",
   "metadata": {},
   "outputs": [
    {
     "name": "stdout",
     "output_type": "stream",
     "text": [
      "\n",
      "Most Profitable Items\n",
      "\n"
     ]
    }
   ],
   "source": [
    "print('\\n' + 'Most Profitable Items' + '\\n')"
   ]
  },
  {
   "cell_type": "code",
   "execution_count": 128,
   "id": "0e621963",
   "metadata": {},
   "outputs": [
    {
     "name": "stdout",
     "output_type": "stream",
     "text": [
      "                                                      Purchase Count  \\\n",
      "Item ID Item Name                                                      \n",
      "92      Final Critic                                              13   \n",
      "178     Oathbreaker, Last Hope of the Breaking Storm              12   \n",
      "82      Nirvana                                                    9   \n",
      "145     Fiery Glass Crusader                                       9   \n",
      "103     Singed Scalpel                                             8   \n",
      "\n",
      "                                                      Item Price  \\\n",
      "Item ID Item Name                                                  \n",
      "92      Final Critic                                        4.61   \n",
      "178     Oathbreaker, Last Hope of the Breaking Storm        4.23   \n",
      "82      Nirvana                                             4.90   \n",
      "145     Fiery Glass Crusader                                4.58   \n",
      "103     Singed Scalpel                                      4.35   \n",
      "\n",
      "                                                      Total Purchase Value  \n",
      "Item ID Item Name                                                           \n",
      "92      Final Critic                                                 59.99  \n",
      "178     Oathbreaker, Last Hope of the Breaking Storm                 50.76  \n",
      "82      Nirvana                                                      44.10  \n",
      "145     Fiery Glass Crusader                                         41.22  \n",
      "103     Singed Scalpel                                               34.80  \n"
     ]
    }
   ],
   "source": [
    "most_profitable_items_df = pd.DataFrame({'Purchase Count': purchase_count,\n",
    "                                         'Item Price': round(item_price,2),\n",
    "                                         'Total Purchase Value': round(total_purchase_value,2)})\n",
    "most_profitable_items_df = most_profitable_items_df.sort_values('Total Purchase Value', ascending=False)\n",
    "print(most_profitable_items_df.head(5))"
   ]
  },
  {
   "cell_type": "code",
   "execution_count": null,
   "id": "e7595c04",
   "metadata": {},
   "outputs": [],
   "source": []
  }
 ],
 "metadata": {
  "kernelspec": {
   "display_name": "Python 3",
   "language": "python",
   "name": "python3"
  },
  "language_info": {
   "codemirror_mode": {
    "name": "ipython",
    "version": 3
   },
   "file_extension": ".py",
   "mimetype": "text/x-python",
   "name": "python",
   "nbconvert_exporter": "python",
   "pygments_lexer": "ipython3",
   "version": "3.8.8"
  }
 },
 "nbformat": 4,
 "nbformat_minor": 5
}
